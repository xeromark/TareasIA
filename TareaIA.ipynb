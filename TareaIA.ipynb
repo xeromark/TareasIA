{
  "nbformat": 4,
  "nbformat_minor": 0,
  "metadata": {
    "colab": {
      "provenance": [],
      "toc_visible": true,
      "authorship_tag": "ABX9TyM8nBtfS+pgNg9O42m7IAno",
      "include_colab_link": true
    },
    "kernelspec": {
      "name": "python3",
      "display_name": "Python 3"
    },
    "language_info": {
      "name": "python"
    }
  },
  "cells": [
    {
      "cell_type": "markdown",
      "metadata": {
        "id": "view-in-github",
        "colab_type": "text"
      },
      "source": [
        "<a href=\"https://colab.research.google.com/github/xeromark/TareasIA/blob/main/TareaIA.ipynb\" target=\"_parent\"><img src=\"https://colab.research.google.com/assets/colab-badge.svg\" alt=\"Open In Colab\"/></a>"
      ]
    },
    {
      "cell_type": "markdown",
      "source": [
        "Tarea 2 de IA de Omar Marca. Github: https://github.com/xeromark/TareasIA\n",
        "\n",
        "Para realizar esta tarea se hizo uso de la librería scikit-learn cuya documentación está en [este enlace](https://scikit-learn.org/stable/): https://scikit-learn.org/stable/"
      ],
      "metadata": {
        "id": "DJLWWciOcCSW"
      }
    },
    {
      "cell_type": "markdown",
      "source": [
        "El dataset utilizado contiene información sobre el estado de salud de mujeres quienes tienen o no diabetes y se puede conseguir en [este enlace](https://www.kaggle.com/datasets/kandij/diabetes-dataset): https://www.kaggle.com/datasets/kandij/diabetes-dataset"
      ],
      "metadata": {
        "id": "oW6EK_DJ4BpI"
      }
    },
    {
      "cell_type": "markdown",
      "source": [
        "# Pregunta 1"
      ],
      "metadata": {
        "id": "VpuicVEghnBp"
      }
    },
    {
      "cell_type": "markdown",
      "source": [
        "## Entrene el algoritmo de regresión logística sobre los datos seleccionados y aplique clasificación con algún (sub)conjunto DISJUNTO de prueba. Adicionalmente, utilice dos métricas (a su elección) de error, explicando cada una de ellas y luego comparándolas entre sí."
      ],
      "metadata": {
        "id": "ruR6Ld0tONut"
      }
    },
    {
      "cell_type": "markdown",
      "source": [],
      "metadata": {
        "id": "Jwyu0szA2j7d"
      }
    },
    {
      "cell_type": "markdown",
      "source": [
        "---"
      ],
      "metadata": {
        "id": "0NYxiplgqvE_"
      }
    },
    {
      "cell_type": "markdown",
      "source": [
        "# Pregunta 2\n"
      ],
      "metadata": {
        "id": "6NsI84TDFL4S"
      }
    },
    {
      "cell_type": "markdown",
      "source": [
        "..."
      ],
      "metadata": {
        "id": "G-jc2LzgmcuL"
      }
    },
    {
      "cell_type": "markdown",
      "source": [
        "---"
      ],
      "metadata": {
        "id": "Pc7xKOe5ab9c"
      }
    },
    {
      "cell_type": "markdown",
      "source": [
        "# Pregunta 3"
      ],
      "metadata": {
        "id": "Zp06Rk60q28u"
      }
    }
  ]
}