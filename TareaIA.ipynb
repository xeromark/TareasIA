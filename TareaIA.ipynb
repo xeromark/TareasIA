{
  "nbformat": 4,
  "nbformat_minor": 0,
  "metadata": {
    "colab": {
      "provenance": [],
      "toc_visible": true,
      "authorship_tag": "ABX9TyPLHlkgEg/C6Ul9EzDqxhS3",
      "include_colab_link": true
    },
    "kernelspec": {
      "name": "python3",
      "display_name": "Python 3"
    },
    "language_info": {
      "name": "python"
    }
  },
  "cells": [
    {
      "cell_type": "markdown",
      "metadata": {
        "id": "view-in-github",
        "colab_type": "text"
      },
      "source": [
        "<a href=\"https://colab.research.google.com/github/xeromark/TareasIA/blob/main/TareaIA.ipynb\" target=\"_parent\"><img src=\"https://colab.research.google.com/assets/colab-badge.svg\" alt=\"Open In Colab\"/></a>"
      ]
    },
    {
      "cell_type": "markdown",
      "source": [
        "Tarea 2 de IA de Omar Marca. Github: https://github.com/xeromark/TareasIA"
      ],
      "metadata": {
        "id": "DJLWWciOcCSW"
      }
    },
    {
      "cell_type": "markdown",
      "source": [
        "# Pregunta 1"
      ],
      "metadata": {
        "id": "VpuicVEghnBp"
      }
    },
    {
      "cell_type": "markdown",
      "source": [
        "\n",
        "..\n"
      ],
      "metadata": {
        "id": "ruR6Ld0tONut"
      }
    },
    {
      "cell_type": "markdown",
      "source": [
        "---"
      ],
      "metadata": {
        "id": "0NYxiplgqvE_"
      }
    },
    {
      "cell_type": "markdown",
      "source": [
        "# Pregunta 2\n"
      ],
      "metadata": {
        "id": "6NsI84TDFL4S"
      }
    },
    {
      "cell_type": "markdown",
      "source": [
        "..."
      ],
      "metadata": {
        "id": "G-jc2LzgmcuL"
      }
    },
    {
      "cell_type": "markdown",
      "source": [
        "---"
      ],
      "metadata": {
        "id": "Pc7xKOe5ab9c"
      }
    },
    {
      "cell_type": "markdown",
      "source": [
        "# Pregunta 3"
      ],
      "metadata": {
        "id": "Zp06Rk60q28u"
      }
    }
  ]
}