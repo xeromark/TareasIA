{
  "nbformat": 4,
  "nbformat_minor": 0,
  "metadata": {
    "colab": {
      "provenance": [],
      "toc_visible": true,
      "authorship_tag": "ABX9TyN+0SiAArBY3j1SsLMuvYwx",
      "include_colab_link": true
    },
    "kernelspec": {
      "name": "python3",
      "display_name": "Python 3"
    },
    "language_info": {
      "name": "python"
    }
  },
  "cells": [
    {
      "cell_type": "markdown",
      "metadata": {
        "id": "view-in-github",
        "colab_type": "text"
      },
      "source": [
        "<a href=\"https://colab.research.google.com/github/xeromark/TareasIA/blob/main/TareaIA.ipynb\" target=\"_parent\"><img src=\"https://colab.research.google.com/assets/colab-badge.svg\" alt=\"Open In Colab\"/></a>"
      ]
    },
    {
      "cell_type": "markdown",
      "source": [
        "# Prerrequisitos"
      ],
      "metadata": {
        "id": "dFumrOHbXy8-"
      }
    },
    {
      "cell_type": "markdown",
      "source": [
        "Para usar la librería de python de bnlearn es necesario instalarla con\n",
        "el siguiente comando por la terminal:\n",
        "\n"
      ],
      "metadata": {
        "id": "5A91R_SwvlbS"
      }
    },
    {
      "cell_type": "code",
      "source": [
        "pip install bnlearn"
      ],
      "metadata": {
        "id": "NQ8o23TyXiaR",
        "collapsed": true
      },
      "execution_count": null,
      "outputs": []
    },
    {
      "cell_type": "markdown",
      "source": [
        "# Método Exhaustivesearch"
      ],
      "metadata": {
        "id": "-fwMltNgW6C4"
      }
    },
    {
      "cell_type": "markdown",
      "source": [
        "Exhaustivesearch determina todas las posibles estructuras de red bayesiana en un conjunto de datos para seleccionar la estructura que se adecue mejor estos. Por lo tanto, este método garantiza encontrar la estructura más óptima a costa de usar muchos recursos computacionales de la máquina en donde se utiliza.\n"
      ],
      "metadata": {
        "id": "L21qi26UWj58"
      }
    },
    {
      "cell_type": "markdown",
      "source": [
        "## Funcionamiento"
      ],
      "metadata": {
        "id": "dfQfVpv6bSfl"
      }
    },
    {
      "cell_type": "code",
      "source": [
        "import bnlearn as bn\n",
        "from tabulate import tabulate\n",
        "import pandas as pd\n",
        "\n",
        "df = pd.read_csv('dataset.csv')\n",
        "\n",
        "model = bn.structure_learning.fit(df, methodtype='ex', scoretype='bic')\n",
        "\n",
        "model = bn.independence_test(model, df, alpha=0.05, prune=True)\n",
        "\n",
        "print(tabulate(model['independence_test'], tablefmt=\"grid\", headers=\"keys\"))\n",
        "bn.plot(model)"
      ],
      "metadata": {
        "id": "kjju58IlW1ea",
        "collapsed": true
      },
      "execution_count": null,
      "outputs": []
    },
    {
      "cell_type": "markdown",
      "source": [
        "# Método Hillclimbsearch"
      ],
      "metadata": {
        "id": "bOH8-Mkez09T"
      }
    },
    {
      "cell_type": "markdown",
      "source": [
        "HillClimbSearch es un algoritmo de búsqueda heurística que intenta encontrar la mejor estructura de la red bayesiana dado un conjunto de datos. Para ello, implementa una búsqueda local que comienza desde el inicio del DAG y continúa realizando iterativamente manipulaciones de un solo borde que aumentan al máximo la puntuación con los cuales se van categorizando la mejor estructura."
      ],
      "metadata": {
        "id": "-PRv33KH0Qso"
      }
    },
    {
      "cell_type": "code",
      "source": [
        "import bnlearn as bn\n",
        "import pandas as pd\n",
        "from tabulate import tabulate\n",
        "\n",
        "df = pd.read_csv('dataset.csv')\n",
        "\n",
        "model = bn.structure_learning.fit(df, methodtype='hc', scoretype='bic')\n",
        "\n",
        "G = bn.plot(model)\n",
        "\n",
        "model1 = bn.independence_test(model, df, alpha=0.05, prune=False)\n",
        "bn.plot(model1, pos=G['pos'])\n",
        "\n",
        "print(tabulate(model1['independence_test'], headers=\"keys\"))\n",
        "\n"
      ],
      "metadata": {
        "id": "87amU6wJ2wBm"
      },
      "execution_count": null,
      "outputs": []
    },
    {
      "cell_type": "markdown",
      "source": [
        "# Pregunta 2\n"
      ],
      "metadata": {
        "id": "6NsI84TDFL4S"
      }
    },
    {
      "cell_type": "markdown",
      "source": [
        "## **a)** Suponga que se empieza escuchando una canción del gran Yngwie Malmsteen. Realizar un random-walk, a partir del punto anterior, reportando a través de gráficos de líneas, como cambian las probabilidades de escuchar una canción de algunos de los grupos mencionados anteriormente. Dicho random-walk debe ser generado hasta llegar a una convergencia definida por usted, a través de un parámetro de usuario epsilon. Analizar los resultados obtenidos."
      ],
      "metadata": {
        "id": "hCpkY6Z7l55U"
      }
    },
    {
      "cell_type": "markdown",
      "source": [
        "A continuación se muestra un código de Python que permite ver el cambio de las probabilidades de escuchar cierta canción. Además, se ha seleccionado un epsilon de 10 debido a que converge a un punto en donde su valor no varía demaciado (Solo varía en cifras no significativas). Por lo tanto, se analizarán los grupos G1, G3, G5, G7 y G9."
      ],
      "metadata": {
        "id": "M82BZ2OBmM_c"
      }
    },
    {
      "cell_type": "code",
      "source": [
        "import numpy as np\n",
        "from tabulate import tabulate\n",
        "import matplotlib.pyplot as plt\n",
        "\n",
        "# matriz de Transición de cada distribución de probabilidad\n",
        "Matriz_T = np.array([\n",
        "   #  G1    G2    G3    G4    G5    G6    G7    G8    G9\n",
        "    [0.25, 0.06, 0.08, 0.15, 0.04, 0.02, 0.15, 0.15, 0.10],  # G1\n",
        "    [0.15, 0.15, 0.10, 0.22, 0.01, 0.02, 0.15, 0.10, 0.10],  # G2\n",
        "    [0.12, 0.00, 0.05, 0.24, 0.14, 0.04, 0.27, 0.07, 0.07],  # G3\n",
        "    [0.05, 0.13, 0.05, 0.30, 0.10, 0.10, 0.22, 0.05, 0.00],  # G4\n",
        "    [0.18, 0.20, 0.07, 0.20, 0.15, 0.05, 0.05, 0.05, 0.05],  # G5\n",
        "    [0.20, 0.10, 0.20, 0.05, 0.05, 0.10, 0.02, 0.15, 0.13],  # G6\n",
        "    [0.01, 0.05, 0.15, 0.14, 0.17, 0.10, 0.12, 0.10, 0.16],  # G7\n",
        "    [0.17, 0.15, 0.07, 0.07, 0.15, 0.10, 0.12, 0.09, 0.08],  # G8\n",
        "    [0.13, 0.11, 0.13, 0.03, 0.20, 0.20, 0.04, 0.15, 0.01]   # G9\n",
        "])\n",
        "\n",
        "### Declaracion de variables\n",
        "estadoActual = [0, 0, 0, 0, 1, 0, 0, 0, 0]\n",
        "temporal = [] #lista vacia para guardar los datos.\n",
        "fs = [0,3,4,6,8] # Filas Seleccionadas para mostrar, en este caso G1, G3. G5, G7, G9\n",
        "Epsilon = 10 # Parámetro Epsilon solicitado, solo serán 10 iteraciones porque con un mayor valor varía poco\n",
        "\n",
        "### Lógica del random-walk\n",
        "for i in range(Epsilon):\n",
        "   estadoActual = np.dot(estadoActual , Matriz_T) # Acumula el estado actual con el siguiente\n",
        "   temporal.append(estadoActual) # Con cada iteracion se alamcena su resultado acumulado\n",
        "\n",
        "temporal = np.array(temporal) # Lo pasamos a una lista de array de tipo enteros no tuplas\n",
        "\n",
        "# Se muestran y grafican los resultados obtenidos\n",
        "for i in fs:\n",
        "  plt.plot(temporal[: , i], label=f'Canción G{i+1}')\n",
        "\n",
        "# Mostrar la tabla tabulada asociada al grafico\n",
        "print(tabulate(temporal[:, fs], headers=[\"G1\",\"G4\",\"G5\",\"G7\",\"G9\"], tablefmt=\"grid\"))\n",
        "\n",
        "plt.xlabel('Iteración')\n",
        "plt.ylabel('Probabilidad (%)')\n",
        "plt.title('Probabilidad de reproducción de música')\n",
        "plt.legend()\n",
        "plt.grid(True)\n",
        "plt.show()"
      ],
      "metadata": {
        "colab": {
          "base_uri": "https://localhost:8080/",
          "height": 871
        },
        "id": "PCJ-ScmDZo2C",
        "outputId": "80789b9e-6733-47e5-c2f1-9f2ce7f6ae85"
      },
      "execution_count": 9,
      "outputs": [
        {
          "output_type": "stream",
          "name": "stdout",
          "text": [
            "+----------+----------+----------+----------+-----------+\n",
            "|       G1 |       G4 |       G5 |       G7 |        G9 |\n",
            "+==========+==========+==========+==========+===========+\n",
            "| 0.18     | 0.2      | 0.15     | 0.05     | 0.05      |\n",
            "+----------+----------+----------+----------+-----------+\n",
            "| 0.1459   | 0.1923   | 0.09     | 0.1424   | 0.0694    |\n",
            "+----------+----------+----------+----------+-----------+\n",
            "| 0.129182 | 0.175733 | 0.107083 | 0.141869 | 0.076     |\n",
            "+----------+----------+----------+----------+-----------+\n",
            "| 0.130118 | 0.171547 | 0.110459 | 0.137356 | 0.0763116 |\n",
            "+----------+----------+----------+----------+-----------+\n",
            "| 0.13139  | 0.171136 | 0.110199 | 0.136811 | 0.0762651 |\n",
            "+----------+----------+----------+----------+-----------+\n",
            "| 0.131613 | 0.171114 | 0.110067 | 0.13687  | 0.0762778 |\n",
            "+----------+----------+----------+----------+-----------+\n",
            "| 0.131623 | 0.171098 | 0.110063 | 0.136883 | 0.0762861 |\n",
            "+----------+----------+----------+----------+-----------+\n",
            "| 0.131624 | 0.171092 | 0.110066 | 0.13688  | 0.0762876 |\n",
            "+----------+----------+----------+----------+-----------+\n",
            "| 0.131625 | 0.171091 | 0.110066 | 0.136879 | 0.0762878 |\n",
            "+----------+----------+----------+----------+-----------+\n",
            "| 0.131626 | 0.171091 | 0.110066 | 0.136879 | 0.0762878 |\n",
            "+----------+----------+----------+----------+-----------+\n"
          ]
        },
        {
          "output_type": "display_data",
          "data": {
            "text/plain": [
              "<Figure size 640x480 with 1 Axes>"
            ],
            "image/png": "[encoded data removed]"
          },
          "metadata": {}
        }
      ]
    },
    {
      "cell_type": "markdown",
      "source": [
        "Tal y como se puede ver al compilar el código de python, los grupos convergen a los siguientes valores:\n",
        "\n",
        "* G1 = 0.131626\n",
        "* G4 = 0.171091\n",
        "* G5 = 0.110066\n",
        "* G7 = 0.136879\n",
        "* G9 = 0.0762878\n",
        "\n"
      ],
      "metadata": {
        "id": "M088TooPemK2"
      }
    },
    {
      "cell_type": "markdown",
      "source": [
        "Estos resultados nos indican cual de ellos es más probable de ser escuchado a largo plazo. En este caso podemos ver que quien tiene el valor más alto **dentro del grupo escogido** lo tiene G4 que corresponde a *Rhapsody of fire* con una probabilidad de 0.171091.\n",
        "\n",
        "Por lo tanto, una persona que deje la Playlist sonando por un tiempo determinado lo más probable es que se escuchen canciones provenientes de *Rhapsody of fire*."
      ],
      "metadata": {
        "id": "G-jc2LzgmcuL"
      }
    },
    {
      "cell_type": "markdown",
      "source": [
        "---"
      ],
      "metadata": {
        "id": "vRWlleKzmarr"
      }
    },
    {
      "cell_type": "markdown",
      "source": [
        "## **b)** Determinar la distribución estacionaria de la cadena de Markov, usando para ello un método analítico. Compare y analice con los resultados obtenidos en el punto **(a)**"
      ],
      "metadata": {
        "id": "E_o9-mKUFz0K"
      }
    },
    {
      "cell_type": "markdown",
      "source": [
        "Para calcular la distribución estacionaria de la cadena de Markov de forma analítica se debe recordar lo siguiente visto en clases:\n",
        "\n",
        "1.   πT = π\n",
        "2.   π1 + π2 + π3 + ... + πn = 1  ;  n ∈ ℤ\n",
        "\n",
        "\n",
        "\n",
        "\n",
        "El punto **(1)** sugiere que la probabilidad de estar en un estado estacionario π no cambiará por más que se le aplique la matriz de transición.\n",
        "\n",
        "El punto **(2)** se refiere que la sumatoria de las probabilidades πn en el estado estacionario es igual a 1\n",
        "\n",
        "---\n",
        "\n",
        "* Por lo tanto, se sabe que:\n",
        "\n",
        "![Descripción de la imagen](https://drive.google.com/uc?id=1BuK7EpKO1e-cYfnwdmlK1w0zyji0WrKi)\n",
        "\n",
        "\n",
        "Luego se tiene que πT = π y la matriz se lleva a un sistema de ecuaciones:\n",
        "\n",
        "\n",
        "![Descripción de la imagen](https://drive.google.com/uc?id=1cmKVuV28IvIzGFpu1jztseBPVSj104PD)\n",
        "\n",
        "\n",
        "Recordando la restricción del punto **(2)**, todas las **Gn** deben sumar 1 en total quedando finalmente como la siguiente figura:\n",
        "\n",
        "![Descripción de la imagen](https://drive.google.com/uc?id=1-fTDJ-_geeCeX5YXX6_gg7iYJlfrZZge)\n",
        "\n",
        "\n",
        "Al resolver este sistema de ecuación lineal se obtienen los siguientes valores:\n",
        "\n",
        "* G1 = 0.13162585\n",
        "* G2 = 0.10540776\n",
        "* G3 = 0.09476106\n",
        "* G4 = 0.17109049\n",
        "* G5 = 0.11006619\n",
        "* G6 = 0.07747712\n",
        "* G7 = 0.13687884\n",
        "* G8 = 0.09640483\n",
        "* G9 = 0.07628785\n"
      ],
      "metadata": {
        "id": "CMlKmGLn5o32"
      }
    },
    {
      "cell_type": "markdown",
      "source": [
        "Ahora se hará una tabla comparativa en donde se podrán a preciar los valores calculados a partir de iteraciones y al calcular de forma analítica de la distribución estacionaria de la cadena de Markov:\n",
        "\n",
        "<table>\n",
        "  <tr>\n",
        "    <th>Grupo</th>\n",
        "    <th>Random-Walk</th>\n",
        "    <th>Distribución estacionaria</th>\n",
        "    <td>Precisión %</td>\n",
        "\n",
        "  </tr>\n",
        "  <tr>\n",
        "    <td>G1</td>\n",
        "    <td>0,131626</td>\n",
        "    <td>0,13162585</td>\n",
        "    <td>≈ 1,13 * 10^-4 % </td>\n",
        "\n",
        "  </tr>\n",
        "  <tr>\n",
        "    <td>G4</td>\n",
        "    <td>0,171091 </td>\n",
        "    <td>0,17109049</td>\n",
        "    <td>≈ 2,98 * 10^-4 % </td>\n",
        "\n",
        "  </tr>\n",
        "  <tr>\n",
        "    <td>G5</td>\n",
        "    <td>0,110066</td>\n",
        "    <td>0,11006619</td>\n",
        "    <td>≈ 1,72 * 10^-4 % </td>\n",
        "\n",
        "  </tr>\n",
        "  <tr>\n",
        "    <td>G7</td>\n",
        "    <td>0,136879</td>\n",
        "    <td>0,13687884</td>\n",
        "    <td>≈ 1,16 * 10^-4 % </td>\n",
        "\n",
        "  </tr>\n",
        "    <tr>\n",
        "    <td>G9</td>\n",
        "    <td>0,0762878</td>\n",
        "    <td>0,07628785</td>\n",
        "    <td>≈ 6,55 * 10^-5 % </td>\n",
        "\n",
        "  </tr>\n",
        "</table>\n",
        "\n",
        "Como se puede apreciar en la tabla, los valores de las probabilidades de cada grupo calculados a partir de 10 iteraciones se aproximan demaciado a los calculados de forma analítica. Cabe a mencionar que el error porcentual (%) en todos los casos vistos en la tabla, no superan el 0,01%, por lo que se concluye que a partir de las 10 iteraciones solo son afectadas las cífras menos significativas.\n"
      ],
      "metadata": {
        "id": "G7Ed0eVqfW2W"
      }
    }
  ]
}