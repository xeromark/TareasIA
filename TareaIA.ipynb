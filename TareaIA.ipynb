{
  "nbformat": 4,
  "nbformat_minor": 0,
  "metadata": {
    "colab": {
      "provenance": [],
      "toc_visible": true,
      "authorship_tag": "ABX9TyPu0UFYij3Wuji4sVseHl2J",
      "include_colab_link": true
    },
    "kernelspec": {
      "name": "python3",
      "display_name": "Python 3"
    },
    "language_info": {
      "name": "python"
    }
  },
  "cells": [
    {
      "cell_type": "markdown",
      "metadata": {
        "id": "view-in-github",
        "colab_type": "text"
      },
      "source": [
        "<a href=\"https://colab.research.google.com/github/xeromark/TareasIA/blob/main/TareaIA.ipynb\" target=\"_parent\"><img src=\"https://colab.research.google.com/assets/colab-badge.svg\" alt=\"Open In Colab\"/></a>"
      ]
    },
    {
      "cell_type": "markdown",
      "source": [
        "# Prerrequisitos"
      ],
      "metadata": {
        "id": "dFumrOHbXy8-"
      }
    },
    {
      "cell_type": "code",
      "source": [
        "pip install bnlearn"
      ],
      "metadata": {
        "id": "NQ8o23TyXiaR",
        "collapsed": true
      },
      "execution_count": null,
      "outputs": []
    },
    {
      "cell_type": "markdown",
      "source": [
        "# Método Exhaustivesearch"
      ],
      "metadata": {
        "id": "-fwMltNgW6C4"
      }
    },
    {
      "cell_type": "markdown",
      "source": [
        "Exhaustivesearch determina todas las posibles estructuras de red bayesiana en un conjunto de datos para seleccionar la estructura que se adecue mejor estos. Por lo tanto, este método garantiza encontrar la estructura más óptima a costa de usar muchos recursos computacionales de la máquina en donde se utiliza.\n"
      ],
      "metadata": {
        "id": "L21qi26UWj58"
      }
    },
    {
      "cell_type": "code",
      "source": [
        "import bnlearn as bn\n",
        "from tabulate import tabulate\n",
        "import pandas as pd\n",
        "\n",
        "df = pd.read_csv('dataset.csv')\n",
        "\n",
        "model = bn.structure_learning.fit(df, methodtype='ex', scoretype='bic')\n",
        "\n",
        "model = bn.independence_test(model, df, alpha=0.05, prune=True)\n",
        "\n",
        "print(tabulate(model['independence_test'], tablefmt=\"grid\", headers=\"keys\"))\n",
        "bn.plot(model)"
      ],
      "metadata": {
        "id": "kjju58IlW1ea",
        "collapsed": true
      },
      "execution_count": null,
      "outputs": []
    }
  ]
}