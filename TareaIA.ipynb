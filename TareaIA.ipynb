{
  "nbformat": 4,
  "nbformat_minor": 0,
  "metadata": {
    "colab": {
      "provenance": [],
      "authorship_tag": "ABX9TyOblaRoWq+lPA8P2MefY/kS",
      "include_colab_link": true
    },
    "kernelspec": {
      "name": "python3",
      "display_name": "Python 3"
    },
    "language_info": {
      "name": "python"
    }
  },
  "cells": [
    {
      "cell_type": "markdown",
      "metadata": {
        "id": "view-in-github",
        "colab_type": "text"
      },
      "source": [
        "<a href=\"https://colab.research.google.com/github/xeromark/TareasIA/blob/main/TareaIA.ipynb\" target=\"_parent\"><img src=\"https://colab.research.google.com/assets/colab-badge.svg\" alt=\"Open In Colab\"/></a>"
      ]
    },
    {
      "cell_type": "markdown",
      "source": [
        "# Prerrequisitos"
      ],
      "metadata": {
        "id": "dFumrOHbXy8-"
      }
    },
    {
      "cell_type": "markdown",
      "source": [
        "Para usar la librería de python de bnlearn es necesario instalarla con\n",
        "el siguiente comando por la terminal:\n",
        "\n"
      ],
      "metadata": {
        "id": "5A91R_SwvlbS"
      }
    },
    {
      "cell_type": "code",
      "source": [
        "pip install bnlearn"
      ],
      "metadata": {
        "id": "NQ8o23TyXiaR",
        "collapsed": true
      },
      "execution_count": null,
      "outputs": []
    },
    {
      "cell_type": "markdown",
      "source": [
        "# Método Exhaustivesearch"
      ],
      "metadata": {
        "id": "-fwMltNgW6C4"
      }
    },
    {
      "cell_type": "markdown",
      "source": [
        "Exhaustivesearch determina todas las posibles estructuras de red bayesiana en un conjunto de datos para seleccionar la estructura que se adecue mejor estos. Por lo tanto, este método garantiza encontrar la estructura más óptima a costa de usar muchos recursos computacionales de la máquina en donde se utiliza.\n"
      ],
      "metadata": {
        "id": "L21qi26UWj58"
      }
    },
    {
      "cell_type": "markdown",
      "source": [
        "## Funcionamiento"
      ],
      "metadata": {
        "id": "dfQfVpv6bSfl"
      }
    },
    {
      "cell_type": "code",
      "source": [
        "import bnlearn as bn\n",
        "from tabulate import tabulate\n",
        "import pandas as pd\n",
        "\n",
        "df = pd.read_csv('dataset.csv')\n",
        "\n",
        "model = bn.structure_learning.fit(df, methodtype='ex', scoretype='bic')\n",
        "\n",
        "model = bn.independence_test(model, df, alpha=0.05, prune=True)\n",
        "\n",
        "print(tabulate(model['independence_test'], tablefmt=\"grid\", headers=\"keys\"))\n",
        "bn.plot(model)"
      ],
      "metadata": {
        "id": "kjju58IlW1ea",
        "collapsed": true
      },
      "execution_count": null,
      "outputs": []
    },
    {
      "cell_type": "markdown",
      "source": [
        "# Método Hillclimbsearch"
      ],
      "metadata": {
        "id": "bOH8-Mkez09T"
      }
    },
    {
      "cell_type": "markdown",
      "source": [
        "HillClimbSearch es un algoritmo de búsqueda heurística que intenta encontrar la mejor estructura de la red bayesiana dado un conjunto de datos. Para ello, implementa una búsqueda local que comienza desde el inicio del DAG y continúa realizando iterativamente manipulaciones de un solo borde que aumentan al máximo la puntuación con los cuales se van categorizando la mejor estructura."
      ],
      "metadata": {
        "id": "-PRv33KH0Qso"
      }
    },
    {
      "cell_type": "code",
      "source": [
        "import bnlearn as bn\n",
        "import pandas as pd\n",
        "from tabulate import tabulate\n",
        "\n",
        "df = pd.read_csv('dataset.csv')\n",
        "\n",
        "model = bn.structure_learning.fit(df, methodtype='hc', scoretype='bic')\n",
        "\n",
        "G = bn.plot(model)\n",
        "\n",
        "model1 = bn.independence_test(model, df, alpha=0.05, prune=False)\n",
        "bn.plot(model1, pos=G['pos'])\n",
        "\n",
        "print(tabulate(model1['independence_test'], headers=\"keys\"))\n",
        "\n"
      ],
      "metadata": {
        "id": "87amU6wJ2wBm"
      },
      "execution_count": null,
      "outputs": []
    },
    {
      "cell_type": "markdown",
      "source": [
        "# Pregunta 2\n"
      ],
      "metadata": {
        "id": "6NsI84TDFL4S"
      }
    },
    {
      "cell_type": "markdown",
      "source": [
        "## **b)** Determinar la distribución estacionaria de la cadena de Markov, usando para ello un método analítico. Compare y analice con los resultados obtenidos en el punto **(a)**"
      ],
      "metadata": {
        "id": "E_o9-mKUFz0K"
      }
    },
    {
      "cell_type": "markdown",
      "source": [
        "Para calcular la distribución estacionaria de la cadena de Markov de forma analítica se debe recordar lo siguiente visto en clases:\n",
        "\n",
        "1.   πT = π\n",
        "2.   π1 + π2 + π3 + ... + πn = 1  ;  n ∈ ℤ\n",
        "\n",
        "\n",
        "\n",
        "\n",
        "El punto **(1)** sugiere que la probabilidad de estar en un estado estacionario π no cambiará por más que se le aplique la matriz de transición.\n",
        "\n",
        "El punto **(2)** se refiere que la sumatoria de las probabilidades πn en el estado estacionario es igual a 1\n",
        "\n",
        "---\n",
        "\n",
        "* Por lo tanto, se sabe que:\n",
        "\n",
        "![Descripción de la imagen](https://drive.google.com/uc?id=1BuK7EpKO1e-cYfnwdmlK1w0zyji0WrKi)\n",
        "\n",
        "\n",
        "Luego se tiene que πT = π y la matriz se lleva a un sistema de ecuaciones:\n",
        "\n",
        "\n",
        "![Descripción de la imagen](https://drive.google.com/uc?id=1cmKVuV28IvIzGFpu1jztseBPVSj104PD)\n",
        "\n",
        "\n",
        "Recordando la restricción del punto **(2)**, todas las **Gn** deben sumar 1 en total quedando finalmente como la siguiente figura:\n",
        "\n",
        "![Descripción de la imagen](https://drive.google.com/uc?id=1-fTDJ-_geeCeX5YXX6_gg7iYJlfrZZge)\n",
        "\n",
        "\n",
        "Cuando se resuelve este sistema de ecuación lineal se obtienen los siguientes valores:\n",
        "\n",
        "* G1 = 0.13162585\n",
        "* G2 = 0.10540776\n",
        "* G3 = 0.09476106\n",
        "* G4 = 0.17109049\n",
        "* G5 = 0.11006619\n",
        "* G6 = 0.07747712\n",
        "* G7 = 0.13687884\n",
        "* G8 = 0.09640483\n",
        "* G9 = 0.07628785]\n"
      ],
      "metadata": {
        "id": "CMlKmGLn5o32"
      }
    }
  ]
}