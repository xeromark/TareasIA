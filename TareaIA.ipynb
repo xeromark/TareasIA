{
  "nbformat": 4,
  "nbformat_minor": 0,
  "metadata": {
    "colab": {
      "provenance": [],
      "toc_visible": true,
      "authorship_tag": "ABX9TyNsNNP/XR8DE0jSCGrPkIHL",
      "include_colab_link": true
    },
    "kernelspec": {
      "name": "python3",
      "display_name": "Python 3"
    },
    "language_info": {
      "name": "python"
    }
  },
  "cells": [
    {
      "cell_type": "markdown",
      "metadata": {
        "id": "view-in-github",
        "colab_type": "text"
      },
      "source": [
        "<a href=\"https://colab.research.google.com/github/xeromark/TareasIA/blob/main/TareaIA.ipynb\" target=\"_parent\"><img src=\"https://colab.research.google.com/assets/colab-badge.svg\" alt=\"Open In Colab\"/></a>"
      ]
    },
    {
      "cell_type": "markdown",
      "source": [
        "# Prerrequisitos"
      ],
      "metadata": {
        "id": "dFumrOHbXy8-"
      }
    },
    {
      "cell_type": "markdown",
      "source": [
        "Para usar la librería de python de bnlearn es necesario instalarla con\n",
        "el siguiente comando por la terminal:\n",
        "\n"
      ],
      "metadata": {
        "id": "5A91R_SwvlbS"
      }
    },
    {
      "cell_type": "code",
      "source": [
        "pip install bnlearn"
      ],
      "metadata": {
        "id": "NQ8o23TyXiaR",
        "collapsed": true
      },
      "execution_count": null,
      "outputs": []
    },
    {
      "cell_type": "markdown",
      "source": [
        "# Método Exhaustivesearch"
      ],
      "metadata": {
        "id": "-fwMltNgW6C4"
      }
    },
    {
      "cell_type": "markdown",
      "source": [
        "Exhaustivesearch determina todas las posibles estructuras de red bayesiana en un conjunto de datos para seleccionar la estructura que se adecue mejor estos. Por lo tanto, este método garantiza encontrar la estructura más óptima a costa de usar muchos recursos computacionales de la máquina en donde se utiliza.\n"
      ],
      "metadata": {
        "id": "L21qi26UWj58"
      }
    },
    {
      "cell_type": "markdown",
      "source": [
        "## Funcionamiento"
      ],
      "metadata": {
        "id": "dfQfVpv6bSfl"
      }
    },
    {
      "cell_type": "code",
      "source": [
        "import bnlearn as bn\n",
        "from tabulate import tabulate\n",
        "import pandas as pd\n",
        "\n",
        "df = pd.read_csv('dataset.csv')\n",
        "\n",
        "model = bn.structure_learning.fit(df, methodtype='ex', scoretype='bic')\n",
        "\n",
        "model = bn.independence_test(model, df, alpha=0.05, prune=True)\n",
        "\n",
        "print(tabulate(model['independence_test'], tablefmt=\"grid\", headers=\"keys\"))\n",
        "bn.plot(model)"
      ],
      "metadata": {
        "id": "kjju58IlW1ea",
        "collapsed": true
      },
      "execution_count": null,
      "outputs": []
    },
    {
      "cell_type": "markdown",
      "source": [
        "# Método Hillclimbsearch"
      ],
      "metadata": {
        "id": "bOH8-Mkez09T"
      }
    },
    {
      "cell_type": "markdown",
      "source": [
        "HillClimbSearch es un algoritmo de búsqueda heurística que intenta encontrar la mejor estructura de la red bayesiana dado un conjunto de datos. Para ello, implementa una búsqueda local que comienza desde el inicio del DAG y continúa realizando iterativamente manipulaciones de un solo borde que aumentan al máximo la puntuación con los cuales se van categorizando la mejor estructura."
      ],
      "metadata": {
        "id": "-PRv33KH0Qso"
      }
    },
    {
      "cell_type": "code",
      "source": [
        "import bnlearn as bn\n",
        "import pandas as pd\n",
        "from tabulate import tabulate\n",
        "\n",
        "df = pd.read_csv('dataset.csv')\n",
        "\n",
        "model = bn.structure_learning.fit(df, methodtype='hc', scoretype='bic')\n",
        "\n",
        "G = bn.plot(model)\n",
        "\n",
        "model1 = bn.independence_test(model, df, alpha=0.05, prune=False)\n",
        "bn.plot(model1, pos=G['pos'])\n",
        "\n",
        "print(tabulate(model1['independence_test'], headers=\"keys\"))\n",
        "\n"
      ],
      "metadata": {
        "id": "87amU6wJ2wBm"
      },
      "execution_count": null,
      "outputs": []
    },
    {
      "cell_type": "markdown",
      "source": [
        "# Pregunta 2\n"
      ],
      "metadata": {
        "id": "6NsI84TDFL4S"
      }
    },
    {
      "cell_type": "markdown",
      "source": [],
      "metadata": {
        "id": "E_o9-mKUFz0K"
      }
    }
  ]
}