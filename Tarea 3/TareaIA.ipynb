{
 "cells": [
  {
   "cell_type": "markdown",
   "metadata": {
    "id": "view-in-github"
   },
   "source": [
    "<a href=\"https://colab.research.google.com/github/xeromark/TareasIA/blob/main/Tareas%203/TareaIA.ipynb\" target=\"_parent\"><img src=\"https://colab.research.google.com/assets/colab-badge.svg\" alt=\"Open In Colab\"/></a>"
   ]
  },
  {
   "cell_type": "markdown",
   "metadata": {
    "id": "DJLWWciOcCSW"
   },
   "source": [
    "Tarea 3 de IA de Omar Marca y Luis Reyes. Github: https://github.com/xeromark/TareasIA\n",
    "\n"
   ]
  },
  {
   "cell_type": "markdown",
   "metadata": {},
   "source": [
    "El dataset utilizado para la parte 2 se trata sobre estadisticas de personas cuyos ingresos superan los $50,000 dolares al año."
   ]
  },
  {
   "cell_type": "markdown",
   "metadata": {
    "id": "KXNTXwmYtsKy"
   },
   "source": [
    "---"
   ]
  },
  {
   "cell_type": "markdown",
   "metadata": {
    "id": "k80rj0X2bOmA"
   },
   "source": [
    "# Pregunta 1"
   ]
  },
  {
   "cell_type": "markdown",
   "metadata": {
    "id": "G-CM64tLbZVm"
   },
   "source": [
    "## Reproduzca el tutorial implementando la arquitectura. Comente paso a paso lo que se hace en sus propias palabras."
   ]
  },
  {
   "cell_type": "markdown",
   "metadata": {
    "id": "aRWSl4O4b6Nn"
   },
   "source": [
    "Las neuronas KAN utilizan funciones de borde no lineales para transformar las entradas con el objetivo de que se pueda procesar la información con menos recursos computacionales y realizar cálculos más complejos.\n",
    "\n",
    "\n",
    "\n",
    "Por otra parte, en MLP las entradas se transforman mediante funciones de activación lineales o no lineales para introducir no linealidades en el modelo, es decir, que el modelo sea capaz de representar relaciones complejas entre las variables de entrada y salida que no pueden ser descritas por una simple relación lineal.\n",
    "\n",
    "\n"
   ]
  },
  {
   "cell_type": "markdown",
   "metadata": {
    "id": "qlW_KivkoITc"
   },
   "source": [
    "### Neurona\n",
    "\n",
    "Para poder utilizar MLP y KAN, se establecen métodos en python para proporcionar una estructura versátil que pueda acomodar tanto las Redes de Kolmogorov-Arnold (KAN) como los Perceptrones Multicapa (MLP). Es por ello que se definen los siguientes métodos del funcionamiento de una neurona:"
   ]
  },
  {
   "cell_type": "code",
   "execution_count": null,
   "metadata": {
    "id": "r026fn5zdIGW"
   },
   "outputs": [],
   "source": [
    "import numpy as np\n",
    "\n",
    "class Neuron:\n",
    "\n",
    "    def __init__(self, n_in, n_weights_per_edge, weights_range=None):\n",
    "        self.n_in = n_in  # n. inputs\n",
    "        self.n_weights_per_edge = n_weights_per_edge\n",
    "        weights_range = [-1, 1] if weights_range is None else weights_range\n",
    "        self.weights = np.random.uniform(weights_range[0], weights_range[-1], size=(self.n_in, self.n_weights_per_edge))\n",
    "        self.bias = 0\n",
    "        self.xin = None  # input variable\n",
    "        self.xmid = None  # edge variables\n",
    "        self.xout = None  # output variable\n",
    "        self.dxout_dxmid = None  # derivative d xout / d xmid: (n_in, )\n",
    "        self.dxout_dbias = None  # derivative d xout / d bias\n",
    "        self.dxmid_dw = None  # derivative d xmid / d w: (n_in, n_par_per_edge)\n",
    "        self.dxmid_dxin = None  # derivative d xmid / d xin\n",
    "        self.dxout_dxin = None  # (composite) derivative d xout / d xin\n",
    "        self.dxout_dw = None  # (composite) derivative d xout / d w\n",
    "        self.dloss_dw = np.zeros((self.n_in, self.n_weights_per_edge))  # (composite) derivative d loss / d w\n",
    "        self.dloss_dbias = 0  # (composite) derivative d loss / d bias\n",
    "\n",
    "    def __call__(self, xin):\n",
    "        # forward pass: compute neuron's output\n",
    "        self.xin = np.array(xin)\n",
    "        self.get_xmid()\n",
    "        self.get_xout()\n",
    "\n",
    "        # compute internal derivatives\n",
    "        self.get_dxout_dxmid()\n",
    "        self.get_dxout_dbias()\n",
    "        self.get_dxmid_dw()\n",
    "        self.get_dxmid_dxin()\n",
    "\n",
    "        assert self.dxout_dxmid.shape == (self.n_in, )\n",
    "        assert self.dxmid_dxin.shape == (self.n_in, )\n",
    "        assert self.dxmid_dw.shape == (self.n_in, self.n_weights_per_edge)\n",
    "\n",
    "        # compute external derivatives\n",
    "        self.get_dxout_dxin()\n",
    "        self.get_dxout_dw()\n",
    "\n",
    "        return self.xout\n",
    "\n",
    "    def get_xmid(self):\n",
    "        # compute self.xmid\n",
    "        pass\n",
    "\n",
    "    def get_xout(self):\n",
    "        # compute self.xout\n",
    "        pass\n",
    "\n",
    "    def get_dxout_dxmid(self):\n",
    "        # compute self.dxout_dxmid\n",
    "        pass\n",
    "\n",
    "    def get_dxout_dbias(self):\n",
    "        # compute self.dxout_dbias\n",
    "        pass  #self.dxout_dbias = 0  # by default\n",
    "\n",
    "    def get_dxmid_dw(self):\n",
    "        # compute self.dxmid_dw\n",
    "        pass\n",
    "\n",
    "    def get_dxmid_dxin(self):\n",
    "        # compute self.dxmid_dxin\n",
    "        pass\n",
    "\n",
    "    def get_dxout_dxin(self):\n",
    "        self.dxout_dxin = self.dxout_dxmid * self.dxmid_dxin\n",
    "\n",
    "    def get_dxout_dw(self):\n",
    "        self.dxout_dw = np.diag(self.dxout_dxmid) @ self.dxmid_dw\n",
    "\n",
    "    def update_dloss_dw_dbias(self, dloss_dxout):\n",
    "        self.dloss_dw += self.dxout_dw * dloss_dxout\n",
    "        self.dloss_dbias += self.dxout_dbias * dloss_dxout\n",
    "\n",
    "    def gradient_descent(self, eps):\n",
    "        self.weights -= eps * self.dloss_dw\n",
    "        self.bias -= eps * self.dloss_dbias"
   ]
  },
  {
   "cell_type": "markdown",
   "metadata": {
    "id": "N5Hk0YlAf2FF"
   },
   "source": [
    "### Función de activación\n",
    "\n",
    "Para poder facilitar el uso de las funciones de Activación, se definen los siguientes métodos:"
   ]
  },
  {
   "cell_type": "code",
   "execution_count": null,
   "metadata": {
    "id": "BzSVEyTQf6zk"
   },
   "outputs": [],
   "source": [
    "import math\n",
    "\n",
    "def relu(x, get_derivative=False):\n",
    "    return x * (x > 0) if not get_derivative else 1.0 * (x >= 0)\n",
    "\n",
    "def tanh_act(x, get_derivative=False):\n",
    "    if not get_derivative:\n",
    "        return math.tanh(x)\n",
    "    return 1 - math.tanh(x) ** 2\n",
    "\n",
    "def sigmoid_act(x, get_derivative=False):\n",
    "    if not get_derivative:\n",
    "        return 1 / (1 + math.exp(-x))\n",
    "    return sigmoid_act(x) * (1 - sigmoid_act(x))"
   ]
  },
  {
   "cell_type": "markdown",
   "metadata": {
    "id": "BAIdAkTnhDBk"
   },
   "source": [
    "### MLP Métodos\n",
    "\n",
    "Luego se define la clase NeuronNN que implementa los métodos de MLP. Esta clase se inicializa con el número de entradas **(n_in)**, un rango que es opcional para los pesos **(weights_range)** y una función de activación **(activation)**. Por defecto, la función de activación es **ReLU**."
   ]
  },
  {
   "cell_type": "code",
   "execution_count": null,
   "metadata": {
    "id": "vKN6rDKnhDdb"
   },
   "outputs": [],
   "source": [
    "class NeuronNN(Neuron):\n",
    "\n",
    "    def __init__(self, n_in, weights_range=None, activation=relu):\n",
    "        super().__init__(n_in, n_weights_per_edge=1, weights_range=weights_range)\n",
    "        self.activation = activation\n",
    "        self.activation_input = None\n",
    "\n",
    "    def get_xmid(self):\n",
    "        self.xmid = self.weights[:, 0] * self.xin\n",
    "\n",
    "    def get_xout(self):\n",
    "        self.activation_input = sum(self.xmid.flatten()) + self.bias\n",
    "        self.xout = self.activation(self.activation_input, get_derivative=False)\n",
    "\n",
    "    def get_dxout_dxmid(self):\n",
    "        self.dxout_dxmid = self.activation(self.activation_input, get_derivative=True) * np.ones(self.n_in)\n",
    "\n",
    "    def get_dxout_dbias(self):\n",
    "        self.dxout_dbias = self.activation(self.activation_input, get_derivative=True)\n",
    "\n",
    "    def get_dxmid_dw(self):\n",
    "        self.dxmid_dw = np.reshape(self.xin, (-1, 1))\n",
    "\n",
    "    def get_dxmid_dxin(self):\n",
    "        self.dxmid_dxin = self.weights.flatten()"
   ]
  },
  {
   "cell_type": "markdown",
   "metadata": {
    "id": "_KWPZm-QiJar"
   },
   "source": [
    "Luego, se define la función **get_bsplines()** para genera un conjunto de funciones borde no lineales (B-splines) y sus derivadas asociadas que serán utilizadas en la posterior implementación de neuronas KAN."
   ]
  },
  {
   "cell_type": "code",
   "execution_count": null,
   "metadata": {
    "id": "3r8SUis2iMlT"
   },
   "outputs": [],
   "source": [
    "from scipy.interpolate import BSpline\n",
    "\n",
    "def get_bsplines(x_bounds, n_fun, degree=3, **kwargs):\n",
    "    grid_len = n_fun - degree + 1\n",
    "    step = (x_bounds[1] - x_bounds[0]) / (grid_len - 1)\n",
    "    edge_fun, edge_fun_der = {}, {}\n",
    "\n",
    "    # SiLU bias function\n",
    "    edge_fun[0] = lambda x: x / (1 + np.exp(-x))\n",
    "    edge_fun_der[0] = lambda x: (1 + np.exp(-x) + x * np.exp(-x)) / np.power((1 + np.exp(-x)), 2)\n",
    "\n",
    "    # B-splines\n",
    "    t = np.linspace(x_bounds[0] - degree * step, x_bounds[1] + degree * step, grid_len + 2 * degree)\n",
    "    t[degree], t[-degree - 1] = x_bounds[0], x_bounds[1]\n",
    "    for ind_spline in range(n_fun - 1):\n",
    "        edge_fun[ind_spline + 1] = BSpline.basis_element(t[ind_spline:ind_spline + degree + 2], extrapolate=False)\n",
    "        edge_fun_der[ind_spline + 1] = edge_fun[ind_spline + 1].derivative()\n",
    "    return edge_fun, edge_fun_der"
   ]
  },
  {
   "cell_type": "markdown",
   "metadata": {
    "id": "Z1W94hz7jVXq"
   },
   "source": [
    "### Clase KAN\n",
    "\n",
    "Ya teniendo todas las funciones y métodos de python necesarios para armar la clase para KAN en python, se obtiene lo siguiente:"
   ]
  },
  {
   "cell_type": "code",
   "execution_count": null,
   "metadata": {
    "id": "D_F3v7Mnkgvy"
   },
   "outputs": [],
   "source": [
    "class NeuronKAN(Neuron):\n",
    "\n",
    "    def __init__(self, n_in, n_weights_per_edge, x_bounds, weights_range=None, get_edge_fun=get_bsplines, **kwargs):\n",
    "        self.x_bounds = x_bounds\n",
    "        super().__init__(n_in, n_weights_per_edge=n_weights_per_edge, weights_range=weights_range)\n",
    "        self.edge_fun, self.edge_fun_der = get_edge_fun(self.x_bounds, self.n_weights_per_edge, **kwargs)\n",
    "\n",
    "    def get_xmid(self):\n",
    "        # apply edge functions\n",
    "        self.phi_x_mat = np.array([self.edge_fun[b](self.xin) for b in self.edge_fun]).T\n",
    "        self.phi_x_mat[np.isnan(self.phi_x_mat)] = 0\n",
    "        self.xmid = (self.weights * self.phi_x_mat).sum(axis=1)\n",
    "\n",
    "    def get_xout(self):\n",
    "        # note: node function <- tanh to avoid any update of spline grids\n",
    "        self.xout = tanh_act(sum(self.xmid.flatten()), get_derivative=False)\n",
    "\n",
    "    def get_dxout_dxmid(self):\n",
    "        self.dxout_dxmid = tanh_act(sum(self.xmid.flatten()), get_derivative=True) * np.ones(self.n_in)\n",
    "\n",
    "    def get_dxmid_dw(self):\n",
    "        self.dxmid_dw = self.phi_x_mat\n",
    "\n",
    "    def get_dxmid_dxin(self):\n",
    "        phi_x_der_mat = np.array([self.edge_fun_der[b](self.xin) if self.edge_fun[b](self.xin) is not None else 0\n",
    "                                  for b in self.edge_fun_der]).T  # shape (n_in, n_weights_per_edge)\n",
    "        phi_x_der_mat[np.isnan(phi_x_der_mat)] = 0\n",
    "        self.dxmid_dxin = (self.weights * phi_x_der_mat).sum(axis=1)\n",
    "\n",
    "    def get_dxout_dbias(self):\n",
    "        # no bias in KAN!\n",
    "        self.dxout_dbias = 0"
   ]
  },
  {
   "cell_type": "markdown",
   "metadata": {
    "id": "StLhpwivIIKE"
   },
   "source": [
    "### 2. Capas totalmente conectadas\n",
    "\n",
    "\n",
    "Una capa totalmente conectada es una colección de neuronas donde el mismo vector de entrada se alimenta a todas las neuronas de la capa. La salida de la capa es un vector que contiene las salidas de todas las neuronas. A continuación se presenta su implementación en python:"
   ]
  },
  {
   "cell_type": "code",
   "execution_count": null,
   "metadata": {
    "id": "NF_HGCgspuWq"
   },
   "outputs": [],
   "source": [
    "class FullyConnectedLayer:\n",
    "\n",
    "    def __init__(self, n_in, n_out, neuron_class=NeuronNN, **kwargs):\n",
    "        self.n_in, self.n_out = n_in, n_out\n",
    "        self.neurons = [neuron_class(n_in) if (kwargs == {}) else neuron_class(n_in, **kwargs) for _ in range(n_out)]\n",
    "        self.xin = None  # input, shape (n_in,)\n",
    "        self.xout = None  # output, shape (n_out,)\n",
    "        self.dloss_dxin = None  # d loss / d xin, shape (n_in,)\n",
    "        self.zero_grad()\n",
    "\n",
    "    def __call__(self, xin):\n",
    "        # forward pass\n",
    "        self.xin = xin\n",
    "        self.xout = np.array([nn(self.xin) for nn in self.neurons])\n",
    "        return self.xout\n",
    "\n",
    "    def zero_grad(self, which=None):\n",
    "        # reset gradients to zero\n",
    "        if which is None:\n",
    "            which = ['xin', 'weights', 'bias']\n",
    "        for w in which:\n",
    "            if w == 'xin':  # reset layer's d loss / d xin\n",
    "                self.dloss_dxin = np.zeros(self.n_in)\n",
    "            elif w == 'weights':  # reset d loss / dw to zero for every neuron\n",
    "                for nn in self.neurons:\n",
    "                    nn.dloss_dw = np.zeros((self.n_in, self.neurons[0].n_weights_per_edge))\n",
    "            elif w == 'bias':  # reset d loss / db to zero for every neuron\n",
    "                for nn in self.neurons:\n",
    "                    nn.dloss_dbias = 0\n",
    "            else:\n",
    "                raise ValueError('input \\'which\\' value not recognized')\n",
    "\n",
    "    def update_grad(self, dloss_dxout):\n",
    "        # update gradients by chain rule\n",
    "        for ii, dloss_dxout_tmp in enumerate(dloss_dxout):\n",
    "            # update layer's d loss / d xin via chain rule\n",
    "            # note: account for all possible xin -> xout -> loss paths!\n",
    "            self.dloss_dxin += self.neurons[ii].dxout_dxin * dloss_dxout_tmp\n",
    "            # update neuron's d loss / dw and d loss / d bias\n",
    "            self.neurons[ii].update_dloss_dw_dbias(dloss_dxout_tmp)\n",
    "        return self.dloss_dxin"
   ]
  },
  {
   "cell_type": "markdown",
   "metadata": {
    "id": "0cfnT2Zdqwfh"
   },
   "source": [
    "### 3. Función de pérdida\n",
    "\n",
    "Para saber que tan bueno es el modelo, se deben evalúa qué tan cerca se alinean las predicciones de la red respecto a la salida con la que se está entrenando **(y_train)** con una función de pérdida. Es por ello que a continuación se presenta la implementación en python:"
   ]
  },
  {
   "cell_type": "code",
   "execution_count": null,
   "metadata": {
    "id": "rzgHUnrUra9x"
   },
   "outputs": [],
   "source": [
    "class Loss:\n",
    "\n",
    "    def __init__(self, n_in):\n",
    "        self.n_in = n_in\n",
    "        self.y, self.dloss_dy, self.loss, self.y_train = None, None, None, None\n",
    "\n",
    "    def __call__(self, y, y_train):\n",
    "        # y: output of network\n",
    "        # y_train: ground truth\n",
    "        self.y, self.y_train = np.array(y), y_train\n",
    "        self.get_loss()\n",
    "        self.get_dloss_dy()\n",
    "        return self.loss\n",
    "\n",
    "    def get_loss(self):\n",
    "        # compute loss l(y, y_train)\n",
    "        pass\n",
    "\n",
    "    def get_dloss_dy(self):\n",
    "        # compute gradient of loss wrt y\n",
    "        pass\n",
    "\n",
    "\n",
    "class SquaredLoss(Loss):\n",
    "\n",
    "    def get_loss(self):\n",
    "        # compute loss l(xin, y)\n",
    "        self.loss = np.mean(np.power(self.y - self.y_train, 2))\n",
    "\n",
    "    def get_dloss_dy(self):\n",
    "        # compute gradient of loss wrt xin\n",
    "        self.dloss_dy = 2 * (self.y - self.y_train) / self.n_in\n",
    "\n",
    "\n",
    "class CrossEntropyLoss(Loss):\n",
    "\n",
    "    def get_loss(self):\n",
    "        # compute loss l(xin, y)\n",
    "        self.loss = - np.log(np.exp(self.y[self.y_train[0]]) / sum(np.exp(self.y)))\n",
    "\n",
    "    def get_dloss_dy(self):\n",
    "        # compute gradient of loss wrt xin\n",
    "        self.dloss_dy = np.exp(self.y) / sum(np.exp(self.y))\n",
    "        self.dloss_dy[self.y_train] -= 1"
   ]
  },
  {
   "cell_type": "markdown",
   "metadata": {
    "id": "Syrms1t0robw"
   },
   "source": [
    "### 4. Red Feed-Forward"
   ]
  },
  {
   "cell_type": "markdown",
   "metadata": {
    "id": "Ls3tBNnKr24A"
   },
   "source": [
    "Una red feed-forward se usa para transformar las entradas en salidas útiles mediante una serie de capas de neuronas totalmente conectadas."
   ]
  },
  {
   "cell_type": "code",
   "execution_count": null,
   "metadata": {
    "id": "WMYNVegCr1Bo"
   },
   "outputs": [],
   "source": [
    "from tqdm import tqdm\n",
    "\n",
    "class FeedForward:\n",
    "    def __init__(self, layer_len, eps=.0001, seed=None, loss=SquaredLoss, **kwargs):\n",
    "        self.seed = np.random.randint(int(1e4)) if seed is None else int(seed)\n",
    "        np.random.seed(self.seed)\n",
    "        self.layer_len = layer_len\n",
    "        self.eps = eps\n",
    "        self.n_layers = len(self.layer_len) - 1\n",
    "        self.layers = [FullyConnectedLayer(layer_len[ii], layer_len[ii + 1], **kwargs) for ii in range(self.n_layers)]\n",
    "        self.loss = loss(self.layer_len[-1])\n",
    "        self.loss_hist = None\n",
    "\n",
    "    def __call__(self, x):\n",
    "        # forward pass\n",
    "        x_in = x\n",
    "        for ll in range(self.n_layers):\n",
    "            x_in = self.layers[ll](x_in)\n",
    "        return x_in\n",
    "\n",
    "    def backprop(self):\n",
    "        # gradient backpropagation\n",
    "        delta = self.layers[-1].update_grad(self.loss.dloss_dy)\n",
    "        for ll in range(self.n_layers - 1)[::-1]:\n",
    "            delta = self.layers[ll].update_grad(delta)\n",
    "\n",
    "    def gradient_descent_par(self):\n",
    "        # update parameters via gradient descent\n",
    "        for ll in self.layers:\n",
    "            for nn in ll.neurons:\n",
    "                nn.gradient_descent(self.eps)\n",
    "\n",
    "    def train(self, x_train, y_train, n_iter_max=10000, loss_tol=.1):\n",
    "        self.loss_hist = np.zeros(n_iter_max)\n",
    "        x_train, y_train = np.array(x_train), np.array(y_train)\n",
    "        assert x_train.shape[0] == y_train.shape[0], 'x_train, y_train must contain the same number of samples'\n",
    "        assert x_train.shape[1] == self.layer_len[0], 'shape of x_train is incompatible with first layer'\n",
    "\n",
    "        pbar = tqdm(range(n_iter_max))\n",
    "        for it in pbar:\n",
    "            loss = 0  # reset loss\n",
    "            for ii in range(x_train.shape[0]):\n",
    "                x_out = self(x_train[ii, :])  # forward pass\n",
    "                loss += self.loss(x_out, y_train[ii, :])  # accumulate loss\n",
    "                self.backprop()  # backward propagation\n",
    "                [layer.zero_grad(which=['xin']) for layer in self.layers]  # reset gradient wrt xin to zero\n",
    "            self.loss_hist[it] = loss\n",
    "            if (it % 10) == 0:\n",
    "                pbar.set_postfix_str(f'loss: {loss:.3f}')  #\n",
    "            if loss < loss_tol:\n",
    "                pbar.set_postfix_str(f'loss: {loss:.3f}. Convergence has been attained!')\n",
    "                self.loss_hist = self.loss_hist[: it]\n",
    "                break\n",
    "            self.gradient_descent_par()  # update parameters\n",
    "            [layer.zero_grad(which=['weights', 'bias']) for layer in self.layers]  # reset gradient wrt par to zero"
   ]
  },
  {
   "cell_type": "markdown",
   "metadata": {
    "id": "mttyhLExswBA"
   },
   "source": [
    "## 5. Implementación de KAN y MLP"
   ]
  },
  {
   "cell_type": "markdown",
   "metadata": {
    "id": "y83hncrptsK5"
   },
   "source": [
    "Para implementar KAN y MLP en python se ha ocupado un simple problema de regresión 1D con datos generados a partir de la librería numpy de python tal y como se muestra a continuación:"
   ]
  },
  {
   "cell_type": "code",
   "execution_count": null,
   "metadata": {
    "id": "auGMhnSts8fX",
    "outputId": "135c9afe-c2c5-4c8c-8915-86fb99af0953"
   },
   "outputs": [
    {
     "name": "stderr",
     "output_type": "stream",
     "text": [
      " 19%|█▉        | 95/500 [00:03<00:14, 28.87it/s, loss: 0.049. Convergence has been attained!]\n",
      " 98%|█████████▊| 489/500 [00:07<00:00, 64.06it/s, loss: 0.050. Convergence has been attained!]\n"
     ]
    },
    {
     "data": {
      "image/png": "[encoded data removed]",
      "text/plain": [
       "<Figure size 400x320 with 1 Axes>"
      ]
     },
     "metadata": {},
     "output_type": "display_data"
    }
   ],
   "source": [
    "import numpy as np\n",
    "from feed_forward_network.feedforward import FeedForward\n",
    "from neuron.neuron_nn import NeuronNN\n",
    "from neuron.neuron_kan import NeuronKAN\n",
    "import matplotlib.pyplot as plt\n",
    "from utils.activations import tanh_act, relu\n",
    "from utils.edge_fun import get_bsplines\n",
    "\n",
    "folder_fig = './'\n",
    "\n",
    "color_plots = {'dataset': 'b',\n",
    "               'kan': 'orange',\n",
    "               'mlp': 'green'}\n",
    "\n",
    "\n",
    "x_train = np.linspace(-1, 1, 50).reshape(-1, 1)\n",
    "y_train = .5 * np.sin(4 * x_train) * np.exp(-(x_train+1)) + .5  # sinusoide amortiguada\n",
    "\n",
    "# Parametros de entrenamiento\n",
    "n_iter_train_1d = 500\n",
    "loss_tol_1d = .05\n",
    "seed = 476\n",
    "\n",
    "# Entrenamiento con KAN\n",
    "kan_1d = FeedForward([1, 2, 2, 1],  # Tamaño de la capa\n",
    "                  eps=.01,  # parámetro de descenso de gradiente\n",
    "                  n_weights_per_edge=7,  # n. funciones borde\n",
    "                  neuron_class=NeuronKAN,\n",
    "                  x_bounds=[-1, 1],  # límites del dominio de entrada\n",
    "                  get_edge_fun=get_bsplines,  # Función de borde tipo (B-splines de Chebyshev)\n",
    "                  seed=seed,\n",
    "                  weights_range=[-1, 1])\n",
    "kan_1d.train(x_train,\n",
    "          y_train,\n",
    "          n_iter_max=n_iter_train_1d,\n",
    "          loss_tol=loss_tol_1d)\n",
    "\n",
    "# Entrenamiento con MLP\n",
    "mlp_1d = FeedForward([1, 13, 1],  # Tamaño de la capa\n",
    "                  eps=.005,  # parámetro de descenso de gradiente\n",
    "                  activation=relu,  # tipo de activación (ReLU, tanh o sigmoidal)\n",
    "                  neuron_class=NeuronNN,\n",
    "                  seed=seed,\n",
    "                  weights_range=[-.5, .5])\n",
    "mlp_1d.train(x_train,\n",
    "             y_train,\n",
    "             n_iter_max=n_iter_train_1d,\n",
    "             loss_tol=loss_tol_1d)\n",
    "\n",
    "\n",
    "\n",
    "# Grafico para los resultados:\n",
    "fig, ax = plt.subplots(figsize=(4,3.2))\n",
    "x_plot = np.linspace(x_train[0], x_train[-1], 1000).reshape(-1, 1)\n",
    "ax.plot(x_train, y_train, 'o', color=color_plots['dataset'], label='training dataset')\n",
    "ax.plot(x_plot, [kan_1d(x) for x in x_plot], color=color_plots['kan'], label='KAN')\n",
    "ax.plot(x_train, [kan_1d(x) for x in x_train], 'x', color=color_plots['kan'], fillstyle='none')\n",
    "ax.plot(x_plot, [mlp_1d(x) for x in x_plot], color=color_plots['mlp'], label='MLP')\n",
    "ax.plot(x_train, [mlp_1d(x) for x in x_train], 'd', color=color_plots['mlp'], fillstyle='none')\n",
    "ax.set_xlabel('input feature', fontsize=13)\n",
    "ax.set_title('Regression', fontsize=15)\n",
    "ax.legend()\n",
    "ax.grid()\n",
    "fig.tight_layout()\n",
    "plt.show()"
   ]
  },
  {
   "cell_type": "markdown",
   "metadata": {
    "id": "Xh76FsjMtsK6"
   },
   "source": [
    "Ahora se aplica KAN y MLP con un problema de regresión 2D para notar la diferencia de como interactúa cada uno con los datos de entrada:"
   ]
  },
  {
   "cell_type": "code",
   "execution_count": null,
   "metadata": {
    "id": "1dB2uB5gtsK6",
    "outputId": "abc5fb07-8695-4835-fd9e-be71254b75c2"
   },
   "outputs": [
    {
     "name": "stderr",
     "output_type": "stream",
     "text": [
      " 68%|██████▊   | 340/500 [00:14<00:07, 22.77it/s, loss: 0.100. Convergence has been attained!]\n",
      "100%|██████████| 500/500 [00:06<00:00, 72.01it/s, loss: 0.349]\n"
     ]
    },
    {
     "data": {
      "image/png": "[encoded data removed]",
      "text/plain": [
       "<Figure size 1100x300 with 6 Axes>"
      ]
     },
     "metadata": {},
     "output_type": "display_data"
    }
   ],
   "source": [
    "def fun2d(X1, X2):\n",
    "    return X1 * np.power(X2, .5)\n",
    "\n",
    "X1, X2 = np.meshgrid(np.linspace(0, .8, 8), np.linspace(0, 1, 10))\n",
    "Y_training = fun2d(X1, X2)\n",
    "\n",
    "x_train2d = np.concatenate((X1.reshape(-1, 1), X2.reshape(-1, 1)), axis=1)\n",
    "y_train2d = Y_training.reshape(-1, 1)\n",
    "\n",
    "# Parametros para el entrenamiento\n",
    "n_iter_train_2d = 500\n",
    "loss_tol_2d = .1\n",
    "seed = 476\n",
    "\n",
    "# Entrenamiento con KAN\n",
    "kan_2d = FeedForward([2, 2, 1],  # layer size\n",
    "                  eps=.02,  # gradient descent parameter\n",
    "                  n_weights_per_edge=10,  # n. edge functions\n",
    "                  neuron_class=NeuronKAN,\n",
    "                  x_bounds=[-1, 1],  # input domain bounds\n",
    "                  get_edge_fun=get_bsplines,  # edge function type (B-splines ot Chebyshev)\n",
    "                  seed=seed,\n",
    "                  weights_range=[-1, 1])\n",
    "kan_2d.train(x_train2d,\n",
    "          y_train2d,\n",
    "          n_iter_max=n_iter_train_2d,\n",
    "          loss_tol=loss_tol_2d)\n",
    "\n",
    "\n",
    "# Entrenamiento con MLP\n",
    "mlp_2d = FeedForward([2, 6, 1],  # layer size\n",
    "                     eps=.0025,  # gradient descend parameter\n",
    "                     activation=relu,  # activation type (ReLU, tanh or sigmoid)\n",
    "                     neuron_class=NeuronNN,\n",
    "                     seed=seed,\n",
    "                     weights_range=[-.1, .1])\n",
    "mlp_2d.train(x_train2d,\n",
    "             y_train2d,\n",
    "             n_iter_max=n_iter_train_2d,\n",
    "             loss_tol=loss_tol_2d)\n",
    "\n",
    "\n",
    "# A contiunuación se grafica:\n",
    "\n",
    "Y_kan = np.array([kan_2d(xx) for xx in x_train2d])\n",
    "Y_mlp = np.array([mlp_2d(xx) for xx in x_train2d])\n",
    "\n",
    "f, a = plt.subplots(1, 3, figsize=(11,3))\n",
    "\n",
    "vmin, vmax = min(Y_training.flatten()), max(Y_training.flatten())\n",
    "\n",
    "im0 = a[0].pcolor(X1, X2, Y_training, vmin=vmin, vmax=vmax)\n",
    "f.colorbar(im0, ax=a[0])\n",
    "a[0].set_title('Training data')\n",
    "a[0].set_xlabel('input feature 1')\n",
    "a[0].set_ylabel('input feature 2')\n",
    "\n",
    "im1 = a[1].pcolor(X1, X2, Y_kan.reshape(X1.shape), vmin=vmin, vmax=vmax)\n",
    "f.colorbar(im1, ax=a[1])\n",
    "a[1].set_title('KAN regression')\n",
    "a[1].set_xlabel('input feature 1')\n",
    "a[1].set_ylabel('input feature 2')\n",
    "\n",
    "im2 = a[2].pcolor(X1, X2, Y_mlp.reshape(X1.shape), vmin=vmin, vmax=vmax)\n",
    "f.colorbar(im2, ax=a[2])\n",
    "a[2].set_title('MLP regression')\n",
    "a[2].set_xlabel('input feature 1')\n",
    "a[2].set_ylabel('input feature 2')\n",
    "\n",
    "f.tight_layout()\n",
    "plt.show()\n",
    "# f.savefig(folder_fig + 'regr2D.png', dpi=500)"
   ]
  },
  {
   "cell_type": "markdown",
   "metadata": {
    "id": "MjzAwciOtsK6"
   },
   "source": [
    "Por ultimo, se ocupa KAN y MLP para un problema de clasificación usando el dataset \"make_moons\" de la librería scikit-learnmarks que corresponde a una media luna tal y como se muestra a continuación:"
   ]
  },
  {
   "cell_type": "code",
   "execution_count": null,
   "metadata": {
    "id": "ZSKP2b59tsK6",
    "outputId": "5d522560-49f6-4303-eb8c-f7bda1e8a180"
   },
   "outputs": [
    {
     "name": "stderr",
     "output_type": "stream",
     "text": [
      "100%|██████████| 1000/1000 [00:16<00:00, 60.88it/s, loss: 6.997]\n",
      "100%|██████████| 1000/1000 [00:21<00:00, 47.61it/s, loss: 6.440]\n"
     ]
    },
    {
     "data": {
      "image/png": "[encoded data removed]",
      "text/plain": [
       "<Figure size 1200x300 with 6 Axes>"
      ]
     },
     "metadata": {},
     "output_type": "display_data"
    }
   ],
   "source": [
    "from sklearn import datasets\n",
    "from loss.cross_entropy_loss import CrossEntropyLoss\n",
    "\n",
    "n_samples = 50\n",
    "noise = 0.1\n",
    "x_train_cl, y_train_cl = datasets.make_moons(n_samples=n_samples, noise=noise)\n",
    "# normalize between -1 and 1\n",
    "x_train_cl[:, 0] = (x_train_cl[:, 0] - min(x_train_cl[:, 0])) / max(x_train_cl[:, 0] - min(x_train_cl[:, 0])) * 2 - 1\n",
    "x_train_cl[:, 1] = (x_train_cl[:, 1] - min(x_train_cl[:, 1])) / max(x_train_cl[:, 1] - min(x_train_cl[:, 1])) * 2 - 1\n",
    "\n",
    "\n",
    "# Parametros de entrenamiento\n",
    "n_iter_train_cl = int(1e3)\n",
    "loss_tol_cl = 1.5\n",
    "seed = 476\n",
    "\n",
    "# Entrenamiento con KAN\n",
    "kan_cl = FeedForward([2, 2],  # layer size\n",
    "                     eps=.02,  # gradient descent parameter\n",
    "                     n_weights_per_edge=8,  # n. edge functions\n",
    "                     neuron_class=NeuronKAN,\n",
    "                     loss=CrossEntropyLoss,\n",
    "                     x_bounds=[-1, 1],  # input domain bounds\n",
    "                     get_edge_fun=get_bsplines,  # edge function type (B-splines ot Chebyshev)\n",
    "                     seed=seed,\n",
    "                     weights_range=[-1, 1])\n",
    "kan_cl.train(x_train_cl,\n",
    "             y_train_cl.reshape(-1, 1),\n",
    "             n_iter_max=n_iter_train_cl,\n",
    "             loss_tol=loss_tol_cl)\n",
    "\n",
    "\n",
    "# Entrenamiento con MLP\n",
    "mlp_cl = FeedForward([2, 10, 10, 2],  # layer size\n",
    "                     eps=.01,  # gradient descend parameter\n",
    "                     activation=tanh_act,  # activation type (relu, tanh_act or sigmoid_act)\n",
    "                     neuron_class=NeuronNN,\n",
    "                     loss=CrossEntropyLoss,\n",
    "                     seed=seed,\n",
    "                     weights_range=[-1, 1])\n",
    "mlp_cl.train(x_train_cl,\n",
    "             y_train_cl.reshape(-1, 1),\n",
    "             n_iter_max=n_iter_train_cl,\n",
    "             loss_tol=loss_tol_cl)\n",
    "\n",
    "# Grafico de los resultados:\n",
    "\n",
    "def softmax(vec):\n",
    "    return np.exp(vec) / sum(np.exp(vec))\n",
    "\n",
    "X1_cl, X2_cl = np.meshgrid(np.linspace(-1, 1, 40), np.linspace(-1, 1, 50))\n",
    "x_cl = np.concatenate((X1_cl.reshape(-1, 1), X2_cl.reshape(-1, 1)), axis=1)\n",
    "\n",
    "Y_kan_cl = np.array([softmax(kan_cl(x))[1] for x in x_cl]).reshape(X1_cl.shape)\n",
    "Y_mlp_cl = np.array([softmax(mlp_cl(x))[1] for x in x_cl]).reshape(X1_cl.shape)\n",
    "\n",
    "fig_cl, ax_cl = plt.subplots(1, 3, figsize=(12,3))\n",
    "# vmin, vmax = min(Y_training.flatten()), max(Y_training.flatten())\n",
    "\n",
    "ax_cl[0].scatter(*x_train_cl.T, c=y_train_cl, cmap=plt.cm.bwr)\n",
    "ax_cl[0].grid()\n",
    "ax_cl[0].set_title('Training data')\n",
    "ax_cl[0].set_xlabel('input feature 1')\n",
    "ax_cl[0].set_ylabel('input feature 2')\n",
    "\n",
    "im0 = ax_cl[1].pcolor(X1_cl, X2_cl, Y_kan_cl, vmin=0, vmax=1, cmap=plt.cm.bwr)\n",
    "ax_cl[1].scatter(*x_train_cl.T, c=y_train_cl, cmap=plt.cm.bwr)\n",
    "ax_cl[1].set_title('KAN classification')\n",
    "ax_cl[1].set_xlabel('input feature 1')\n",
    "ax_cl[1].set_ylabel('input feature 2')\n",
    "\n",
    "im1 = ax_cl[2].pcolor(X1_cl, X2_cl, Y_mlp_cl, vmin=0, vmax=1, cmap=plt.cm.bwr)\n",
    "ax_cl[2].scatter(*x_train_cl.T, c=y_train_cl, cmap=plt.cm.bwr)\n",
    "ax_cl[2].set_title('MLP classification')\n",
    "ax_cl[2].set_xlabel('input feature 1')\n",
    "ax_cl[2].set_ylabel('input feature 2')\n",
    "\n",
    "fig_cl.colorbar(im1, ax=ax_cl[0])\n",
    "fig_cl.colorbar(im1, ax=ax_cl[1])\n",
    "fig_cl.colorbar(im1, ax=ax_cl[2])\n",
    "fig_cl.tight_layout()\n",
    "plt.show()"
   ]
  },
  {
   "cell_type": "markdown",
   "metadata": {
    "id": "33I549iDtsK6"
   },
   "source": [
    "---"
   ]
  },
  {
   "cell_type": "markdown",
   "metadata": {
    "id": "eilrhphpbT5v"
   },
   "source": [
    "# Pregunta 2\n"
   ]
  },
  {
   "cell_type": "markdown",
   "metadata": {
    "id": "HDZ7HaWZbh92"
   },
   "source": [
    "## Obtenga resultados de ejecución de las ANN como en el tutorial. En el punto 5 del tutorial, modifique los datos de entrada usando otros datasets y vuelva a hacer comparaciones entre los resultados obtenidos de las distintas redes usadas en el tutorial"
   ]
  },
  {
   "cell_type": "markdown",
   "metadata": {},
   "source": [
    "A continuación se tiene el código de python de la parte 1 modificado para analizar otro dataset distinto. Además, el eje X tomado corresponderá a la edad normalizada de las personas y el eje Y corresponde a las horas por semanas trabajadas que también fueron normalizadas."
   ]
  },
  {
   "cell_type": "code",
   "execution_count": null,
   "metadata": {
    "colab": {
     "base_uri": "https://localhost:8080/",
     "height": 362
    },
    "id": "rKd-ugfItsK7",
    "outputId": "7c228f31-b872-4bca-be30-8f8a2be7a6ed"
   },
   "outputs": [
    {
     "name": "stderr",
     "output_type": "stream",
     "text": [
      "100%|██████████| 500/500 [05:09<00:00,  1.62it/s, loss: 394.862]\n",
      "100%|██████████| 500/500 [02:15<00:00,  3.69it/s, loss: 442.000]\n"
     ]
    },
    {
     "data": {
      "image/png": "[encoded data removed]",
      "text/plain": [
       "<Figure size 400x320 with 1 Axes>"
      ]
     },
     "metadata": {},
     "output_type": "display_data"
    }
   ],
   "source": [
    "import numpy as np\n",
    "from feed_forward_network.feedforward import FeedForward\n",
    "from neuron.neuron_nn import NeuronNN\n",
    "from neuron.neuron_kan import NeuronKAN\n",
    "import matplotlib.pyplot as plt\n",
    "from utils.activations import relu\n",
    "from utils.edge_fun import get_bsplines\n",
    "\n",
    "from sklearn.preprocessing import StandardScaler\n",
    "from sklearn.model_selection import train_test_split\n",
    "import pandas as pd\n",
    "\n",
    "\n",
    "columns = [\n",
    "    \"age\", \"workclass\", \"fnlwgt\", \"education\", \"education-num\", \"marital-status\",\n",
    "    \"occupation\", \"relationship\", \"race\", \"sex\", \"capital-gain\", \"capital-loss\",\n",
    "    \"hours-per-week\", \"native-country\", \"income\"\n",
    "]\n",
    "data = pd.read_csv('./adult.data', header=None, names=columns, skipinitialspace=True)\n",
    "\n",
    "x = data[['age']].values  # Usar 'age' como característica\n",
    "y = data[['hours-per-week']].values  # Usar 'hours-per-week' como objetivo\n",
    "\n",
    "x_train, _, y_train, _ = train_test_split(x, y, train_size=442, random_state=42)\n",
    "\n",
    "# Estandarizar los datos\n",
    "scaler_x = StandardScaler()\n",
    "scaler_y = StandardScaler()\n",
    "x_train = scaler_x.fit_transform(x_train)\n",
    "y_train = scaler_y.fit_transform(y_train)\n",
    "\n",
    "color_plots = {'dataset': 'b', 'kan': 'orange', 'mlp': 'green'}\n",
    "\n",
    "n_iter_train_1d = 500\n",
    "loss_tol_1d = 0.05\n",
    "seed = 476\n",
    "\n",
    "# KAN training\n",
    "kan_1d = FeedForward(\n",
    "    [1, 2, 2, 1],  # layer size\n",
    "    eps=0.01,  # gradient descent parameter\n",
    "    n_weights_per_edge=7,  # n. edge functions\n",
    "    neuron_class=NeuronKAN,\n",
    "    x_bounds=[-1, 1],  # input domain bounds\n",
    "    get_edge_fun=get_bsplines,  # edge function type (B-splines)\n",
    "    seed=seed,\n",
    "    weights_range=[-1, 1]\n",
    ")\n",
    "kan_1d.train(x_train, y_train, n_iter_max=n_iter_train_1d, loss_tol=loss_tol_1d)\n",
    "\n",
    "# MLP training\n",
    "mlp_1d = FeedForward(\n",
    "    [1, 13, 1],  # layer size\n",
    "    eps=0.005,  # gradient descent parameter\n",
    "    activation=relu,  # activation type (ReLU)\n",
    "    neuron_class=NeuronNN,\n",
    "    seed=seed,\n",
    "    weights_range=[-0.5, 0.5]\n",
    ")\n",
    "mlp_1d.train(x_train, y_train, n_iter_max=n_iter_train_1d, loss_tol=loss_tol_1d)\n",
    "\n",
    "# Regression on training data\n",
    "fig, ax = plt.subplots(figsize=(4, 3.2))\n",
    "x_plot = np.linspace(x_train.min(), x_train.max(), 1000).reshape(-1, 1)\n",
    "ax.plot(x_train, y_train, 'o', color=color_plots['dataset'], label='training dataset')\n",
    "ax.plot(x_plot, [kan_1d(x) for x in x_plot], color=color_plots['kan'], label='KAN')\n",
    "ax.plot(x_train, [kan_1d(x) for x in x_train], 'x', color=color_plots['kan'], fillstyle='none')\n",
    "ax.plot(x_plot, [mlp_1d(x) for x in x_plot], color=color_plots['mlp'], label='MLP')\n",
    "ax.plot(x_train, [mlp_1d(x) for x in x_train], 'd', color=color_plots['mlp'], fillstyle='none')\n",
    "ax.set_xlabel('Age (normalized)', fontsize=13)\n",
    "ax.set_title('Regression on Adults Dataset', fontsize=15)\n",
    "ax.legend()\n",
    "ax.grid()\n",
    "fig.tight_layout()\n",
    "plt.show()\n"
   ]
  },
  {
   "cell_type": "markdown",
   "metadata": {},
   "source": [
    "### Analisis y comparación de resultados"
   ]
  },
  {
   "cell_type": "markdown",
   "metadata": {
    "id": "s0wSg7lQy8xc"
   },
   "source": [
    "Para el primer dataset (del tutorial), se observa que era más estructurado y presentaba una relación más clara entre las variables (como las entradas y salidas continuas). Esto indicaba menor ruido y variabilidad, permitiendo un ajuste más estable. En el caso de KAN, este modelo funcionó correctamente, generando patrones no lineales y curvas de ajuste complejas pero precisas, gracias a la menor cantidad de ruido en los datos, lo que permitió que el modelo mostrara su capacidad de aproximación. Sin embargo, para el dataset Adults, que presentaba una mayor cantidad de ruido y dispersión en los datos, KAN mostró una gran sensibilidad al ruido, lo que resultó en sobreajustes en áreas específicas, reduciendo la consistencia de su desempeño.\n",
    "\n",
    "Por otro lado, MLP mostró un ajuste más general y menos detallado, pero fue capaz de reflejar correctamente la tendencia del dataset del tutorial, mostrando robustez frente a pequeñas variaciones. Para el dataset Adults, MLP mantuvo esta robustez, adaptándose mejor al ruido que KAN, aunque en puntos específicos fue menos preciso. Esto evidencia que KAN sobresale en datasets estructurados y con patrones claros, pero su sensibilidad al ruido limita su desempeño en datasets dispersos como el de Adults. En cambio, MLP ofrece un desempeño estable en ambos escenarios, sacrificando algo de precisión en datasets muy estructurados a cambio de una mejor adaptación al ruido en datos dispersos.\n",
    "\n",
    "**Respecto a la convergencia de ambos datasets:**\n",
    "\n",
    "A continuación, se tiene una tabla con el Loss en cada caso:\n",
    "\n",
    "<table>\n",
    "  <tr>\n",
    "    <th> Dataset </th>\n",
    "    <th>MLP </th>\n",
    "    <th>KAN </th>\n",
    "\n",
    "  </tr>\n",
    "  <tr>\n",
    "    <td>Tutorial</td>\n",
    "    <td>0.049</td>\n",
    "    <td>0.050</td>\n",
    "\n",
    "    \n",
    "  </tr>\n",
    "   <tr>\n",
    "    <td>Nuevo (Adult)</td>\n",
    "    <td>394.862</td>\n",
    "    <td>442.000</td>\n",
    "\n",
    "\n",
    "  </tr>\n",
    "\n",
    "\n",
    "  \n",
    "</table>\n",
    "\n",
    "El loss es mayor en el dataset Adults producto del ruido y la gran dispersión de los datos, lo que dificulta el ajuste preciso en el modelo. Por otro lado, distinto es en el tutorial cuyas relaciones son claras y definidas, lo que permite una menor pérdida. El modelo no converge en el dataset de Adults debido a esto, generando errores inconsistentes y dificultando encontrar un mínimo local en la función de pérdida, a diferencia del tutorial que converge producto de su estructura clara."
   ]
  },
  {
   "cell_type": "markdown",
   "metadata": {},
   "source": [
    "**Conclusión que se puede extraer del gráfico**\n",
    "\n",
    "Como el gráfico representa las horas trabajadas en función de la edad de las personas, se puede notar gracias a KAN que la mayoría de los datos son cercanos al cero, es decir, que para este conjunto de datos, las personas más jovenes tienden a tener más horas trabajadas por semana."
   ]
  },
  {
   "cell_type": "markdown",
   "metadata": {
    "id": "s8ukF0jbtsK7"
   },
   "source": [
    "---"
   ]
  },
  {
   "cell_type": "markdown",
   "metadata": {
    "id": "MknekV5RbVif"
   },
   "source": [
    "# Pregunta 3\n",
    "\n",
    "\n",
    "\n"
   ]
  },
  {
   "cell_type": "markdown",
   "metadata": {
    "id": "oyyuJnK5bqe3"
   },
   "source": [
    "## Explique en sus propias palabras cómo está construida la arquitectura KAN y por qué funciona. Además, haga un análisis sobre los resultados obtenidos y cómo y por qué podrían variar."
   ]
  },
  {
   "cell_type": "markdown",
   "metadata": {
    "id": "EMLoCc6VtsK7"
   },
   "source": [
    "### Arquitectura KAN"
   ]
  },
  {
   "cell_type": "markdown",
   "metadata": {
    "id": "d9JkU0zxtsK7"
   },
   "source": [
    "La arquitectura KAN se basa en el Teorema de representación de Kolmogorov-Arnold y establece que cualquier función continua multivariable puede descomponerse en una suma de funciones más simples de una sola variable."
   ]
  },
  {
   "cell_type": "markdown",
   "metadata": {
    "id": "uZ5Qhsd8tsK-"
   },
   "source": [
    "### Funcionamiento de una KAN"
   ]
  },
  {
   "cell_type": "markdown",
   "metadata": {
    "id": "_XffMhcCtsK-"
   },
   "source": [
    "KAN organiza su estructura en tres componentes principales para mapear la entrada **X** = {x_1, x_2, ..., x_n} a una salida **Y** *(ó vector de salidas)*. Para ello, se sigue lo siguiente:\n",
    "\n",
    "1. **Transformación Lineal de las Entradas:** Cada entrada de la red **x_n** se combina de manera lineal con las otras entradas para generar un conjunto de proyecciones **y_i** tal y como se muestra en la siguiente figura:\n",
    "\n",
    "\n",
    "![y_i = ∑j=1,n; aij * xj + bi](https://drive.google.com/uc?id=1uflEZkM7mipEZ61kkmK-dZnJ2Qz31RXq)\n",
    "\n",
    "\n",
    "\n"
   ]
  },
  {
   "cell_type": "markdown",
   "metadata": {
    "id": "RdaELu4YtsK-"
   },
   "source": [
    "donde **a_ij y b_i** corresponden a parámetros de la red que se ajustan en el proceso de entrenamiento."
   ]
  },
  {
   "cell_type": "markdown",
   "metadata": {
    "id": "t6N-7QJktsK_"
   },
   "source": [
    "2. **Aplicación de Funciones No Lineales:** Después de la transformación lineal, cada proyección **y_i** pasa por una función de activación (como ReLU, sigmoide, tanh, etc.), quedando como: **𝜙(y_i)**\n"
   ]
  },
  {
   "cell_type": "markdown",
   "metadata": {
    "id": "XKz3pnDhtsK_"
   },
   "source": [
    "3. **Combinación de las Salidas No Lineales:** Por ultimo, Las salidas de las funciones no lineales se combinan nuevamente en una sumatoria para obtener la salida final de la red KAN tal y como se muestra en la siguiente figura:\n",
    "\n",
    "![f(x) = ∑i=1,m; ci * 𝜙(y_i)](https://drive.google.com/uc?id=1tEsoCFD2jrjDMr3LQrAO1AAjLbmBmXWi)\n"
   ]
  },
  {
   "cell_type": "markdown",
   "metadata": {
    "id": "wedTZhxQtsK_"
   },
   "source": [
    "donde **c_i** son los coeficientes de ponderación aprendidos en el proceso de entrenamiento."
   ]
  },
  {
   "cell_type": "markdown",
   "metadata": {
    "id": "2ZpHxZo0tsK_"
   },
   "source": [
    "### Efectividad:"
   ]
  },
  {
   "cell_type": "markdown",
   "metadata": {
    "id": "CCLgD7IztsK_"
   },
   "source": [
    "La efectividad están dadas por los siguientes puntos:\n",
    "\n",
    "1. **Interpretabilidad**: KAN descompone problemas multivariables en componentes univariados, lo que puede facilitar la interpretación de la red generada.\n",
    "\n",
    "2. **Flexibilidad:** La red KAN es capaz de representar cualquier función continua sin necesidad de capas profundas ya que puede modelar funciones complejas con pocas capas (en comparación con otros algoritmos) lo que la hace más eficiente.\n",
    "\n",
    "3. **Limitación:** La red KAN Aunque es potente para funciones continuas, su desempeño es menos efectivo con datos discontinuos o ruidosos (ya que los datos ruidosos tambien producen discontinuidad y variaciones rápidas) lo cual hace que el modelo se sobre ajuste (Overfitting).\n",
    "\n"
   ]
  },
  {
   "cell_type": "markdown",
   "metadata": {
    "id": "o6mpVbjKLuu9"
   },
   "source": [
    "### Análisis de resultados obtenidos:\n",
    "\n"
   ]
  },
  {
   "cell_type": "markdown",
   "metadata": {
    "id": "p1vEvRS_NNky"
   },
   "source": [
    "KAN mostró un ajuste más preciso y detallado en el dataset del tutorial, gracias a la claridad en las relaciones no lineales de los datos, generando predicciones confiables y sin signos significativos de sobreajuste. Sin embargo, en el dataset Adults, KAN demostró una alta sensibilidad al ruido, lo que resultó en sobreajustes en áreas con mayor dispersión de los datos. Esta mayor dispersión y el ruido dificultaron el ajuste, provocando que KAN intentara modelar relaciones específicas, lo que afectó su precisión general.\n",
    "\n",
    "La flexibilidad de KAN le permite capturar patrones complejos, pero también lo hace propenso a ajustarse al ruido. En datasets con patrones menos definidos, como Adults, esto se vuelve más notorio, resultando en sobreajuste y una pérdida significativa de precisión en predicciones futuras. Por lo tanto, aunque KAN es una herramienta poderosa para datos estructurados, su desempeño se ve limitado en escenarios donde los datos son más ruidosos o dispersos."
   ]
  },
  {
   "cell_type": "markdown",
   "metadata": {
    "id": "XV_0njxJtsK_"
   },
   "source": [
    "---"
   ]
  },
  {
   "cell_type": "markdown",
   "metadata": {
    "id": "QvjdO70htsK_"
   },
   "source": [
    "# Referencias:\n",
    "\n",
    "Manuel. (2024, 27 mayo). What are KAN: Kolmogorov–Arnold Networks? | Medium. Medium. https://medium.com/@manuelescobar-dev/what-are-kan-kolmogorov-arnold-networks-96f261a26eba\n",
    "\n",
    "A from-scratch implementation of Kolmogorov-Arnold Networks (KAN). . .and MLP. (2024, 15 mayo). ML Without Tears. https://mlwithouttears.com/2024/05/15/a-from-scratch-implementation-of-kolmogorov-arnold-networks-kan/"
   ]
  }
 ],
 "metadata": {
  "colab": {
   "provenance": []
  },
  "kernelspec": {
   "display_name": "Python 3",
   "name": "python3"
  },
  "language_info": {
   "codemirror_mode": {
    "name": "ipython",
    "version": 3
   },
   "file_extension": ".py",
   "mimetype": "text/x-python",
   "name": "python",
   "nbconvert_exporter": "python",
   "pygments_lexer": "ipython3",
   "version": "3.12.3"
  }
 },
 "nbformat": 4,
 "nbformat_minor": 0
}
