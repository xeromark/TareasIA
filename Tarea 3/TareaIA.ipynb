{
  "nbformat": 4,
  "nbformat_minor": 0,
  "metadata": {
    "colab": {
      "provenance": [],
      "toc_visible": true,
      "authorship_tag": "ABX9TyPQcrL2dXs77e++rWsuo61I",
      "include_colab_link": true
    },
    "kernelspec": {
      "name": "python3",
      "display_name": "Python 3"
    },
    "language_info": {
      "name": "python"
    }
  },
  "cells": [
    {
      "cell_type": "markdown",
      "metadata": {
        "id": "view-in-github",
        "colab_type": "text"
      },
      "source": [
        "<a href=\"https://colab.research.google.com/github/xeromark/TareasIA/blob/main/Tarea%203/TareaIA.ipynb\" target=\"_parent\"><img src=\"https://colab.research.google.com/assets/colab-badge.svg\" alt=\"Open In Colab\"/></a>"
      ]
    },
    {
      "cell_type": "markdown",
      "source": [
        "Tarea 3 de IA de Omar Marca y Luis Reyes. Github: https://github.com/xeromark/TareasIA\n",
        "\n"
      ],
      "metadata": {
        "id": "DJLWWciOcCSW"
      }
    },
    {
      "cell_type": "markdown",
      "source": [
        "# Pregunta 1"
      ],
      "metadata": {
        "id": "k80rj0X2bOmA"
      }
    },
    {
      "cell_type": "markdown",
      "source": [
        "## Reproduzca el tutorial implementando la arquitectura. Comente paso a paso lo que se hace en sus propias palabras."
      ],
      "metadata": {
        "id": "G-CM64tLbZVm"
      }
    },
    {
      "cell_type": "markdown",
      "source": [
        "# Pregunta 2\n"
      ],
      "metadata": {
        "id": "eilrhphpbT5v"
      }
    },
    {
      "cell_type": "markdown",
      "source": [
        "## Obtenga resultados de ejecución de las ANN como en el tutorial. En el punto 5 del tutorial, modifique los datos de entrada usando otros datasets y vuelva a hacer comparaciones entre los resultados obtenidos de las distintas redes usadas en el tutorial"
      ],
      "metadata": {
        "id": "HDZ7HaWZbh92"
      }
    },
    {
      "cell_type": "markdown",
      "source": [
        "# Pregunta 3\n",
        "\n",
        "\n",
        "\n"
      ],
      "metadata": {
        "id": "MknekV5RbVif"
      }
    },
    {
      "cell_type": "markdown",
      "source": [
        "## Explique en sus propias palabras cómo está construida la arquitectura KAN y por qué funciona. Además, haga un análisis sobre los resultados obtenidos y cómo y por qué podrían variar."
      ],
      "metadata": {
        "id": "oyyuJnK5bqe3"
      }
    }
  ]
}